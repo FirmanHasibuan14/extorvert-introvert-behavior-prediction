{
 "cells": [
  {
   "cell_type": "markdown",
   "id": "af949945",
   "metadata": {},
   "source": [
    "# Libraries"
   ]
  },
  {
   "cell_type": "code",
   "execution_count": 1,
   "id": "71618552",
   "metadata": {},
   "outputs": [
    {
     "name": "stdout",
     "output_type": "stream",
     "text": [
      "Defaulting to user installation because normal site-packages is not writeable\n",
      "Requirement already satisfied: optuna in c:\\users\\firma\\appdata\\roaming\\python\\python312\\site-packages (4.4.0)\n",
      "Requirement already satisfied: alembic>=1.5.0 in c:\\users\\firma\\appdata\\roaming\\python\\python312\\site-packages (from optuna) (1.16.2)\n",
      "Requirement already satisfied: colorlog in c:\\users\\firma\\appdata\\roaming\\python\\python312\\site-packages (from optuna) (6.9.0)\n",
      "Requirement already satisfied: numpy in c:\\users\\firma\\appdata\\roaming\\python\\python312\\site-packages (from optuna) (1.26.4)\n",
      "Requirement already satisfied: packaging>=20.0 in c:\\users\\firma\\appdata\\roaming\\python\\python312\\site-packages (from optuna) (24.2)\n",
      "Requirement already satisfied: sqlalchemy>=1.4.2 in c:\\users\\firma\\appdata\\roaming\\python\\python312\\site-packages (from optuna) (2.0.36)\n",
      "Requirement already satisfied: tqdm in c:\\users\\firma\\appdata\\roaming\\python\\python312\\site-packages (from optuna) (4.67.0)\n",
      "Requirement already satisfied: PyYAML in c:\\users\\firma\\appdata\\roaming\\python\\python312\\site-packages (from optuna) (6.0.2)\n",
      "Requirement already satisfied: Mako in c:\\users\\firma\\appdata\\roaming\\python\\python312\\site-packages (from alembic>=1.5.0->optuna) (1.3.10)\n",
      "Requirement already satisfied: typing-extensions>=4.12 in c:\\users\\firma\\appdata\\roaming\\python\\python312\\site-packages (from alembic>=1.5.0->optuna) (4.12.2)\n",
      "Requirement already satisfied: greenlet!=0.4.17 in c:\\users\\firma\\appdata\\roaming\\python\\python312\\site-packages (from sqlalchemy>=1.4.2->optuna) (3.1.1)\n",
      "Requirement already satisfied: colorama in c:\\users\\firma\\appdata\\roaming\\python\\python312\\site-packages (from colorlog->optuna) (0.4.6)\n",
      "Requirement already satisfied: MarkupSafe>=0.9.2 in c:\\users\\firma\\appdata\\roaming\\python\\python312\\site-packages (from Mako->alembic>=1.5.0->optuna) (3.0.2)\n",
      "Note: you may need to restart the kernel to use updated packages.\n"
     ]
    }
   ],
   "source": [
    "%pip install optuna"
   ]
  },
  {
   "cell_type": "code",
   "execution_count": 2,
   "id": "c167d2ce",
   "metadata": {},
   "outputs": [
    {
     "name": "stderr",
     "output_type": "stream",
     "text": [
      "C:\\Users\\firma\\AppData\\Roaming\\Python\\Python312\\site-packages\\tqdm\\auto.py:21: TqdmWarning: IProgress not found. Please update jupyter and ipywidgets. See https://ipywidgets.readthedocs.io/en/stable/user_install.html\n",
      "  from .autonotebook import tqdm as notebook_tqdm\n"
     ]
    }
   ],
   "source": [
    "import pandas as pd\n",
    "import numpy as np\n",
    "import matplotlib.pyplot as plt\n",
    "import seaborn as sns\n",
    "\n",
    "from sklearn.model_selection import train_test_split\n",
    "from sklearn.metrics import accuracy_score, classification_report, confusion_matrix\n",
    "from sklearn.model_selection import StratifiedKFold\n",
    "\n",
    "import optuna\n",
    "import xgboost as xgb\n",
    "\n",
    "import os\n",
    "import joblib"
   ]
  },
  {
   "cell_type": "markdown",
   "id": "0db28283",
   "metadata": {},
   "source": [
    "# Load Dataset"
   ]
  },
  {
   "cell_type": "code",
   "execution_count": 3,
   "id": "7eb699b2",
   "metadata": {},
   "outputs": [],
   "source": [
    "df = pd.read_csv('C:/Users/firma/Documents/Python/ML + BE/CLASSIFICATION/Extrovert vs. Introvert Behavior Prediction/ML/Data/personality_dataset.csv')"
   ]
  },
  {
   "cell_type": "markdown",
   "id": "f5cb9a96",
   "metadata": {},
   "source": [
    "# Data Information"
   ]
  },
  {
   "cell_type": "code",
   "execution_count": 4,
   "id": "83136924",
   "metadata": {},
   "outputs": [
    {
     "data": {
      "text/html": [
       "<div>\n",
       "<style scoped>\n",
       "    .dataframe tbody tr th:only-of-type {\n",
       "        vertical-align: middle;\n",
       "    }\n",
       "\n",
       "    .dataframe tbody tr th {\n",
       "        vertical-align: top;\n",
       "    }\n",
       "\n",
       "    .dataframe thead th {\n",
       "        text-align: right;\n",
       "    }\n",
       "</style>\n",
       "<table border=\"1\" class=\"dataframe\">\n",
       "  <thead>\n",
       "    <tr style=\"text-align: right;\">\n",
       "      <th></th>\n",
       "      <th>Time_spent_Alone</th>\n",
       "      <th>Stage_fear</th>\n",
       "      <th>Social_event_attendance</th>\n",
       "      <th>Going_outside</th>\n",
       "      <th>Drained_after_socializing</th>\n",
       "      <th>Friends_circle_size</th>\n",
       "      <th>Post_frequency</th>\n",
       "      <th>Personality</th>\n",
       "    </tr>\n",
       "  </thead>\n",
       "  <tbody>\n",
       "    <tr>\n",
       "      <th>0</th>\n",
       "      <td>4.0</td>\n",
       "      <td>No</td>\n",
       "      <td>4.0</td>\n",
       "      <td>6.0</td>\n",
       "      <td>No</td>\n",
       "      <td>13.0</td>\n",
       "      <td>5.0</td>\n",
       "      <td>Extrovert</td>\n",
       "    </tr>\n",
       "    <tr>\n",
       "      <th>1</th>\n",
       "      <td>9.0</td>\n",
       "      <td>Yes</td>\n",
       "      <td>0.0</td>\n",
       "      <td>0.0</td>\n",
       "      <td>Yes</td>\n",
       "      <td>0.0</td>\n",
       "      <td>3.0</td>\n",
       "      <td>Introvert</td>\n",
       "    </tr>\n",
       "    <tr>\n",
       "      <th>2</th>\n",
       "      <td>9.0</td>\n",
       "      <td>Yes</td>\n",
       "      <td>1.0</td>\n",
       "      <td>2.0</td>\n",
       "      <td>Yes</td>\n",
       "      <td>5.0</td>\n",
       "      <td>2.0</td>\n",
       "      <td>Introvert</td>\n",
       "    </tr>\n",
       "    <tr>\n",
       "      <th>3</th>\n",
       "      <td>0.0</td>\n",
       "      <td>No</td>\n",
       "      <td>6.0</td>\n",
       "      <td>7.0</td>\n",
       "      <td>No</td>\n",
       "      <td>14.0</td>\n",
       "      <td>8.0</td>\n",
       "      <td>Extrovert</td>\n",
       "    </tr>\n",
       "    <tr>\n",
       "      <th>4</th>\n",
       "      <td>3.0</td>\n",
       "      <td>No</td>\n",
       "      <td>9.0</td>\n",
       "      <td>4.0</td>\n",
       "      <td>No</td>\n",
       "      <td>8.0</td>\n",
       "      <td>5.0</td>\n",
       "      <td>Extrovert</td>\n",
       "    </tr>\n",
       "  </tbody>\n",
       "</table>\n",
       "</div>"
      ],
      "text/plain": [
       "   Time_spent_Alone Stage_fear  Social_event_attendance  Going_outside  \\\n",
       "0               4.0         No                      4.0            6.0   \n",
       "1               9.0        Yes                      0.0            0.0   \n",
       "2               9.0        Yes                      1.0            2.0   \n",
       "3               0.0         No                      6.0            7.0   \n",
       "4               3.0         No                      9.0            4.0   \n",
       "\n",
       "  Drained_after_socializing  Friends_circle_size  Post_frequency Personality  \n",
       "0                        No                 13.0             5.0   Extrovert  \n",
       "1                       Yes                  0.0             3.0   Introvert  \n",
       "2                       Yes                  5.0             2.0   Introvert  \n",
       "3                        No                 14.0             8.0   Extrovert  \n",
       "4                        No                  8.0             5.0   Extrovert  "
      ]
     },
     "execution_count": 4,
     "metadata": {},
     "output_type": "execute_result"
    }
   ],
   "source": [
    "df.head()"
   ]
  },
  {
   "cell_type": "code",
   "execution_count": 5,
   "id": "13448dcd",
   "metadata": {},
   "outputs": [
    {
     "name": "stdout",
     "output_type": "stream",
     "text": [
      "<class 'pandas.core.frame.DataFrame'>\n",
      "RangeIndex: 2900 entries, 0 to 2899\n",
      "Data columns (total 8 columns):\n",
      " #   Column                     Non-Null Count  Dtype  \n",
      "---  ------                     --------------  -----  \n",
      " 0   Time_spent_Alone           2837 non-null   float64\n",
      " 1   Stage_fear                 2827 non-null   object \n",
      " 2   Social_event_attendance    2838 non-null   float64\n",
      " 3   Going_outside              2834 non-null   float64\n",
      " 4   Drained_after_socializing  2848 non-null   object \n",
      " 5   Friends_circle_size        2823 non-null   float64\n",
      " 6   Post_frequency             2835 non-null   float64\n",
      " 7   Personality                2900 non-null   object \n",
      "dtypes: float64(5), object(3)\n",
      "memory usage: 181.4+ KB\n"
     ]
    }
   ],
   "source": [
    "df.info()"
   ]
  },
  {
   "cell_type": "code",
   "execution_count": 6,
   "id": "184f5c8f",
   "metadata": {},
   "outputs": [
    {
     "name": "stdout",
     "output_type": "stream",
     "text": [
      "Column: Stage_fear\n",
      "Number of Unique Values (nunique): 2\n",
      "Unique Values: ['No' 'Yes' nan]\n",
      "Value Counts:\n",
      "Stage_fear\n",
      "No     1417\n",
      "Yes    1410\n",
      "Name: count, dtype: int64\n",
      "--------------------------------------------------\n",
      "Column: Going_outside\n",
      "Number of Unique Values (nunique): 8\n",
      "Unique Values: [ 6.  0.  2.  7.  4.  5. nan  3.  1.]\n",
      "Value Counts:\n",
      "Going_outside\n",
      "0.0    498\n",
      "2.0    456\n",
      "1.0    429\n",
      "5.0    374\n",
      "4.0    359\n",
      "6.0    335\n",
      "3.0    209\n",
      "7.0    174\n",
      "Name: count, dtype: int64\n",
      "--------------------------------------------------\n",
      "Column: Drained_after_socializing\n",
      "Number of Unique Values (nunique): 2\n",
      "Unique Values: ['No' 'Yes' nan]\n",
      "Value Counts:\n",
      "Drained_after_socializing\n",
      "No     1441\n",
      "Yes    1407\n",
      "Name: count, dtype: int64\n",
      "--------------------------------------------------\n",
      "Column: Personality\n",
      "Number of Unique Values (nunique): 2\n",
      "Unique Values: ['Extrovert' 'Introvert']\n",
      "Value Counts:\n",
      "Personality\n",
      "Extrovert    1491\n",
      "Introvert    1409\n",
      "Name: count, dtype: int64\n",
      "--------------------------------------------------\n"
     ]
    }
   ],
   "source": [
    "obj = [col for col in df.columns if df[col].nunique() <= 10]\n",
    "for col in obj:\n",
    "   print(f\"Column: {col}\")\n",
    "   print(f\"Number of Unique Values (nunique): {df[col].nunique()}\")\n",
    "   print(f\"Unique Values: {df[col].unique()}\")\n",
    "   print(\"Value Counts:\")\n",
    "   print(df[col].value_counts())\n",
    "   print(\"-\" * 50)"
   ]
  },
  {
   "cell_type": "markdown",
   "id": "fcb76497",
   "metadata": {},
   "source": [
    "# Data Cleaning"
   ]
  },
  {
   "cell_type": "code",
   "execution_count": 7,
   "id": "d3efd74f",
   "metadata": {},
   "outputs": [],
   "source": [
    "cols = [col for col in df.columns if df[col].isnull().sum() and col not in ['Stage_fear', 'Drained_after_socializing']]\n",
    "\n",
    "for col in cols:\n",
    "    df[col] = df[col].fillna(df[col].mean())"
   ]
  },
  {
   "cell_type": "code",
   "execution_count": 8,
   "id": "9ebe8130",
   "metadata": {},
   "outputs": [],
   "source": [
    "cols2 = ['Stage_fear', 'Drained_after_socializing']\n",
    "for col1 in cols2:\n",
    "    df[col1] = df[col1].fillna(df[col1].mode()[0])"
   ]
  },
  {
   "cell_type": "code",
   "execution_count": 9,
   "id": "47195c43",
   "metadata": {},
   "outputs": [],
   "source": [
    "def stage_fear_and_drained_after_socializing_mapping(val):\n",
    "    if val == 'Yes':\n",
    "        return 1\n",
    "    elif val == 'No':\n",
    "        return 0\n",
    "    return np.nan\n",
    "\n",
    "def personality_mapping(val):\n",
    "    if val == 'Introvert':\n",
    "        return 0\n",
    "    elif val == 'Extrovert':\n",
    "        return 1\n",
    "    return np.nan"
   ]
  },
  {
   "cell_type": "code",
   "execution_count": 10,
   "id": "f08fc6d3",
   "metadata": {},
   "outputs": [],
   "source": [
    "df['Stage_fear'] = df['Stage_fear'].apply(stage_fear_and_drained_after_socializing_mapping)\n",
    "df['Drained_after_socializing'] = df['Drained_after_socializing'].apply(stage_fear_and_drained_after_socializing_mapping)\n",
    "df['Personality'] = df['Personality'].apply(personality_mapping)"
   ]
  },
  {
   "cell_type": "code",
   "execution_count": 11,
   "id": "37d50d3d",
   "metadata": {},
   "outputs": [
    {
     "data": {
      "text/html": [
       "<div>\n",
       "<style scoped>\n",
       "    .dataframe tbody tr th:only-of-type {\n",
       "        vertical-align: middle;\n",
       "    }\n",
       "\n",
       "    .dataframe tbody tr th {\n",
       "        vertical-align: top;\n",
       "    }\n",
       "\n",
       "    .dataframe thead th {\n",
       "        text-align: right;\n",
       "    }\n",
       "</style>\n",
       "<table border=\"1\" class=\"dataframe\">\n",
       "  <thead>\n",
       "    <tr style=\"text-align: right;\">\n",
       "      <th></th>\n",
       "      <th>Time_spent_Alone</th>\n",
       "      <th>Stage_fear</th>\n",
       "      <th>Social_event_attendance</th>\n",
       "      <th>Going_outside</th>\n",
       "      <th>Drained_after_socializing</th>\n",
       "      <th>Friends_circle_size</th>\n",
       "      <th>Post_frequency</th>\n",
       "      <th>Personality</th>\n",
       "    </tr>\n",
       "  </thead>\n",
       "  <tbody>\n",
       "    <tr>\n",
       "      <th>0</th>\n",
       "      <td>4.0</td>\n",
       "      <td>0</td>\n",
       "      <td>4.0</td>\n",
       "      <td>6.0</td>\n",
       "      <td>0</td>\n",
       "      <td>13.0</td>\n",
       "      <td>5.0</td>\n",
       "      <td>1</td>\n",
       "    </tr>\n",
       "    <tr>\n",
       "      <th>1</th>\n",
       "      <td>9.0</td>\n",
       "      <td>1</td>\n",
       "      <td>0.0</td>\n",
       "      <td>0.0</td>\n",
       "      <td>1</td>\n",
       "      <td>0.0</td>\n",
       "      <td>3.0</td>\n",
       "      <td>0</td>\n",
       "    </tr>\n",
       "    <tr>\n",
       "      <th>2</th>\n",
       "      <td>9.0</td>\n",
       "      <td>1</td>\n",
       "      <td>1.0</td>\n",
       "      <td>2.0</td>\n",
       "      <td>1</td>\n",
       "      <td>5.0</td>\n",
       "      <td>2.0</td>\n",
       "      <td>0</td>\n",
       "    </tr>\n",
       "    <tr>\n",
       "      <th>3</th>\n",
       "      <td>0.0</td>\n",
       "      <td>0</td>\n",
       "      <td>6.0</td>\n",
       "      <td>7.0</td>\n",
       "      <td>0</td>\n",
       "      <td>14.0</td>\n",
       "      <td>8.0</td>\n",
       "      <td>1</td>\n",
       "    </tr>\n",
       "    <tr>\n",
       "      <th>4</th>\n",
       "      <td>3.0</td>\n",
       "      <td>0</td>\n",
       "      <td>9.0</td>\n",
       "      <td>4.0</td>\n",
       "      <td>0</td>\n",
       "      <td>8.0</td>\n",
       "      <td>5.0</td>\n",
       "      <td>1</td>\n",
       "    </tr>\n",
       "  </tbody>\n",
       "</table>\n",
       "</div>"
      ],
      "text/plain": [
       "   Time_spent_Alone  Stage_fear  Social_event_attendance  Going_outside  \\\n",
       "0               4.0           0                      4.0            6.0   \n",
       "1               9.0           1                      0.0            0.0   \n",
       "2               9.0           1                      1.0            2.0   \n",
       "3               0.0           0                      6.0            7.0   \n",
       "4               3.0           0                      9.0            4.0   \n",
       "\n",
       "   Drained_after_socializing  Friends_circle_size  Post_frequency  Personality  \n",
       "0                          0                 13.0             5.0            1  \n",
       "1                          1                  0.0             3.0            0  \n",
       "2                          1                  5.0             2.0            0  \n",
       "3                          0                 14.0             8.0            1  \n",
       "4                          0                  8.0             5.0            1  "
      ]
     },
     "execution_count": 11,
     "metadata": {},
     "output_type": "execute_result"
    }
   ],
   "source": [
    "df.head()"
   ]
  },
  {
   "cell_type": "markdown",
   "id": "22ae4aae",
   "metadata": {},
   "source": [
    "# Data Modeling"
   ]
  },
  {
   "cell_type": "markdown",
   "id": "b0800d13",
   "metadata": {},
   "source": [
    "## Train Test Split"
   ]
  },
  {
   "cell_type": "code",
   "execution_count": 12,
   "id": "1591312c",
   "metadata": {},
   "outputs": [],
   "source": [
    "features = [col for col in df.columns if col not in ['Personality']]\n",
    "target = 'Personality'"
   ]
  },
  {
   "cell_type": "code",
   "execution_count": 13,
   "id": "b25f26f7",
   "metadata": {},
   "outputs": [],
   "source": [
    "X = df[features]\n",
    "y = df[target]\n",
    "\n",
    "X_train, X_test, y_train, y_test = train_test_split(X, y, test_size=0.2, stratify=y, random_state=42)"
   ]
  },
  {
   "cell_type": "markdown",
   "id": "41f45f09",
   "metadata": {},
   "source": [
    "## Cross Validation"
   ]
  },
  {
   "cell_type": "code",
   "execution_count": 14,
   "id": "b07d055f",
   "metadata": {},
   "outputs": [],
   "source": [
    "def crossval(model, X, y):\n",
    "    skf = StratifiedKFold(n_splits=10, shuffle=True, random_state=42)\n",
    "    scores = []\n",
    "\n",
    "    for fold, (train_idx, test_idx) in enumerate(skf.split(X, y)):\n",
    "        X_train, X_test = X.iloc[train_idx], X.iloc[test_idx]\n",
    "        y_train, y_test = y.iloc[train_idx], y.iloc[test_idx]\n",
    "\n",
    "        model.fit(X_train, y_train, eval_set=[(X_test, y_test)], verbose=False)\n",
    "        y_pred = model.predict(X_test)\n",
    "        score = accuracy_score(y_test, y_pred)\n",
    "\n",
    "        print(f\"Fold {fold + 1}: Accuracy: {score:.4f}\")\n",
    "        scores.append(score)\n",
    "\n",
    "    avg_score = np.mean(scores)\n",
    "    print(f\"Average Accuracy: {avg_score:.4f}\")\n",
    "    return scores"
   ]
  },
  {
   "cell_type": "markdown",
   "id": "b1832436",
   "metadata": {},
   "source": [
    "## Hyperparameter"
   ]
  },
  {
   "cell_type": "code",
   "execution_count": 15,
   "id": "52ffd370",
   "metadata": {},
   "outputs": [
    {
     "name": "stderr",
     "output_type": "stream",
     "text": [
      "[I 2025-06-27 20:50:05,061] A new study created in memory with name: no-name-caf9a494-f955-4b75-93d6-04d276fac814\n"
     ]
    },
    {
     "name": "stdout",
     "output_type": "stream",
     "text": [
      "Fold 1: Accuracy: 0.9138\n",
      "Fold 2: Accuracy: 0.9241\n",
      "Fold 3: Accuracy: 0.9069\n",
      "Fold 4: Accuracy: 0.9000\n",
      "Fold 5: Accuracy: 0.9034\n",
      "Fold 6: Accuracy: 0.9345\n",
      "Fold 7: Accuracy: 0.9207\n"
     ]
    },
    {
     "name": "stderr",
     "output_type": "stream",
     "text": [
      "[I 2025-06-27 20:50:05,946] Trial 0 finished with value: 0.9175862068965517 and parameters: {'learning_rate': 0.3645592519980573}. Best is trial 0 with value: 0.9175862068965517.\n"
     ]
    },
    {
     "name": "stdout",
     "output_type": "stream",
     "text": [
      "Fold 8: Accuracy: 0.9138\n",
      "Fold 9: Accuracy: 0.9379\n",
      "Fold 10: Accuracy: 0.9207\n",
      "Average Accuracy: 0.9176\n",
      "Fold 1: Accuracy: 0.9310\n",
      "Fold 2: Accuracy: 0.9345\n",
      "Fold 3: Accuracy: 0.9207\n",
      "Fold 4: Accuracy: 0.9172\n",
      "Fold 5: Accuracy: 0.9241\n",
      "Fold 6: Accuracy: 0.9483\n",
      "Fold 7: Accuracy: 0.9310\n",
      "Fold 8: Accuracy: 0.9103\n",
      "Fold 9: Accuracy: 0.9517\n",
      "Fold 10: Accuracy: 0.9448\n",
      "Average Accuracy: 0.9314\n"
     ]
    },
    {
     "name": "stderr",
     "output_type": "stream",
     "text": [
      "[I 2025-06-27 20:50:06,667] Trial 1 finished with value: 0.9313793103448276 and parameters: {'learning_rate': 0.10827391994975147}. Best is trial 1 with value: 0.9313793103448276.\n"
     ]
    },
    {
     "name": "stdout",
     "output_type": "stream",
     "text": [
      "Fold 1: Accuracy: 0.8897\n",
      "Fold 2: Accuracy: 0.9207\n",
      "Fold 3: Accuracy: 0.9034\n",
      "Fold 4: Accuracy: 0.8931\n",
      "Fold 5: Accuracy: 0.8931\n",
      "Fold 6: Accuracy: 0.9379\n",
      "Fold 7: Accuracy: 0.9103\n"
     ]
    },
    {
     "name": "stderr",
     "output_type": "stream",
     "text": [
      "[I 2025-06-27 20:50:07,378] Trial 2 finished with value: 0.9062068965517242 and parameters: {'learning_rate': 0.6193617354553362}. Best is trial 1 with value: 0.9313793103448276.\n"
     ]
    },
    {
     "name": "stdout",
     "output_type": "stream",
     "text": [
      "Fold 8: Accuracy: 0.9034\n",
      "Fold 9: Accuracy: 0.9138\n",
      "Fold 10: Accuracy: 0.8966\n",
      "Average Accuracy: 0.9062\n",
      "Fold 1: Accuracy: 0.9034\n",
      "Fold 2: Accuracy: 0.9310\n",
      "Fold 3: Accuracy: 0.9069\n",
      "Fold 4: Accuracy: 0.8966\n",
      "Fold 5: Accuracy: 0.9034\n",
      "Fold 6: Accuracy: 0.9414\n",
      "Fold 7: Accuracy: 0.9172\n"
     ]
    },
    {
     "name": "stderr",
     "output_type": "stream",
     "text": [
      "[I 2025-06-27 20:50:08,107] Trial 3 finished with value: 0.9144827586206896 and parameters: {'learning_rate': 0.4310439401965956}. Best is trial 1 with value: 0.9313793103448276.\n"
     ]
    },
    {
     "name": "stdout",
     "output_type": "stream",
     "text": [
      "Fold 8: Accuracy: 0.9138\n",
      "Fold 9: Accuracy: 0.9276\n",
      "Fold 10: Accuracy: 0.9034\n",
      "Average Accuracy: 0.9145\n",
      "Fold 1: Accuracy: 0.8966\n",
      "Fold 2: Accuracy: 0.9241\n",
      "Fold 3: Accuracy: 0.9103\n",
      "Fold 4: Accuracy: 0.8966\n",
      "Fold 5: Accuracy: 0.8966\n",
      "Fold 6: Accuracy: 0.9310\n",
      "Fold 7: Accuracy: 0.9069\n",
      "Fold 8: Accuracy: 0.9034\n"
     ]
    },
    {
     "name": "stderr",
     "output_type": "stream",
     "text": [
      "[I 2025-06-27 20:50:08,797] Trial 4 finished with value: 0.9079310344827587 and parameters: {'learning_rate': 0.6858354707751066}. Best is trial 1 with value: 0.9313793103448276.\n"
     ]
    },
    {
     "name": "stdout",
     "output_type": "stream",
     "text": [
      "Fold 9: Accuracy: 0.9172\n",
      "Fold 10: Accuracy: 0.8966\n",
      "Average Accuracy: 0.9079\n",
      "Fold 1: Accuracy: 0.8862\n",
      "Fold 2: Accuracy: 0.9138\n",
      "Fold 3: Accuracy: 0.9000\n",
      "Fold 4: Accuracy: 0.8828\n",
      "Fold 5: Accuracy: 0.8966\n",
      "Fold 6: Accuracy: 0.9379\n",
      "Fold 7: Accuracy: 0.9103\n",
      "Fold 8: Accuracy: 0.9069\n"
     ]
    },
    {
     "name": "stderr",
     "output_type": "stream",
     "text": [
      "[I 2025-06-27 20:50:09,479] Trial 5 finished with value: 0.903793103448276 and parameters: {'learning_rate': 0.8963266243987279}. Best is trial 1 with value: 0.9313793103448276.\n"
     ]
    },
    {
     "name": "stdout",
     "output_type": "stream",
     "text": [
      "Fold 9: Accuracy: 0.9103\n",
      "Fold 10: Accuracy: 0.8931\n",
      "Average Accuracy: 0.9038\n",
      "Fold 1: Accuracy: 0.9414\n",
      "Fold 2: Accuracy: 0.9310\n",
      "Fold 3: Accuracy: 0.9207\n",
      "Fold 4: Accuracy: 0.9241\n",
      "Fold 5: Accuracy: 0.9241\n",
      "Fold 6: Accuracy: 0.9483\n",
      "Fold 7: Accuracy: 0.9345\n"
     ]
    },
    {
     "name": "stderr",
     "output_type": "stream",
     "text": [
      "[I 2025-06-27 20:50:10,243] Trial 6 finished with value: 0.9341379310344827 and parameters: {'learning_rate': 0.04209426911966647}. Best is trial 6 with value: 0.9341379310344827.\n"
     ]
    },
    {
     "name": "stdout",
     "output_type": "stream",
     "text": [
      "Fold 8: Accuracy: 0.9138\n",
      "Fold 9: Accuracy: 0.9517\n",
      "Fold 10: Accuracy: 0.9517\n",
      "Average Accuracy: 0.9341\n",
      "Fold 1: Accuracy: 0.9276\n",
      "Fold 2: Accuracy: 0.9345\n",
      "Fold 3: Accuracy: 0.9172\n",
      "Fold 4: Accuracy: 0.9138\n",
      "Fold 5: Accuracy: 0.9207\n",
      "Fold 6: Accuracy: 0.9483\n",
      "Fold 7: Accuracy: 0.9310\n",
      "Fold 8: Accuracy: 0.9138\n",
      "Fold 9: Accuracy: 0.9448\n",
      "Fold 10: Accuracy: 0.9276\n",
      "Average Accuracy: 0.9279\n"
     ]
    },
    {
     "name": "stderr",
     "output_type": "stream",
     "text": [
      "[I 2025-06-27 20:50:10,971] Trial 7 finished with value: 0.9279310344827586 and parameters: {'learning_rate': 0.1465467492963449}. Best is trial 6 with value: 0.9341379310344827.\n"
     ]
    },
    {
     "name": "stdout",
     "output_type": "stream",
     "text": [
      "Fold 1: Accuracy: 0.9379\n",
      "Fold 2: Accuracy: 0.9310\n",
      "Fold 3: Accuracy: 0.9207\n",
      "Fold 4: Accuracy: 0.9207\n",
      "Fold 5: Accuracy: 0.9241\n",
      "Fold 6: Accuracy: 0.9483\n",
      "Fold 7: Accuracy: 0.9310\n",
      "Fold 8: Accuracy: 0.9138\n",
      "Fold 9: Accuracy: 0.9517\n"
     ]
    },
    {
     "name": "stderr",
     "output_type": "stream",
     "text": [
      "[I 2025-06-27 20:50:11,751] Trial 8 finished with value: 0.933103448275862 and parameters: {'learning_rate': 0.07167783549383162}. Best is trial 6 with value: 0.9341379310344827.\n"
     ]
    },
    {
     "name": "stdout",
     "output_type": "stream",
     "text": [
      "Fold 10: Accuracy: 0.9517\n",
      "Average Accuracy: 0.9331\n",
      "Fold 1: Accuracy: 0.8828\n",
      "Fold 2: Accuracy: 0.9172\n",
      "Fold 3: Accuracy: 0.9034\n",
      "Fold 4: Accuracy: 0.8897\n",
      "Fold 5: Accuracy: 0.8931\n",
      "Fold 6: Accuracy: 0.9379\n",
      "Fold 7: Accuracy: 0.9172\n",
      "Fold 8: Accuracy: 0.9034\n",
      "Fold 9: Accuracy: 0.9138\n"
     ]
    },
    {
     "name": "stderr",
     "output_type": "stream",
     "text": [
      "[I 2025-06-27 20:50:12,433] Trial 9 finished with value: 0.9051724137931035 and parameters: {'learning_rate': 0.8244597459963432}. Best is trial 6 with value: 0.9341379310344827.\n"
     ]
    },
    {
     "name": "stdout",
     "output_type": "stream",
     "text": [
      "Fold 10: Accuracy: 0.8931\n",
      "Average Accuracy: 0.9052\n"
     ]
    }
   ],
   "source": [
    "def objective_xgb(trial):\n",
    "    xgb_params = {\n",
    "        'learning_rate': trial.suggest_float('learning_rate', 0.01, 1.0),\n",
    "        'eval_metric': 'error',\n",
    "        'verbosity': 0,\n",
    "        'n_jobs': -1\n",
    "    }\n",
    "\n",
    "    model = xgb.XGBClassifier(**xgb_params)\n",
    "    scores = crossval(model, X, y)\n",
    "    return np.mean(scores)\n",
    "\n",
    "study = optuna.create_study(direction='maximize')\n",
    "study.optimize(objective_xgb, n_trials=10)\n",
    "\n",
    "best_learning_rate = study.best_params['learning_rate']"
   ]
  },
  {
   "cell_type": "code",
   "execution_count": 16,
   "id": "7dd50d51",
   "metadata": {},
   "outputs": [
    {
     "name": "stderr",
     "output_type": "stream",
     "text": [
      "[I 2025-06-27 20:50:12,443] A new study created in memory with name: no-name-6bdae810-5253-4284-9eb2-0d62698c5491\n"
     ]
    },
    {
     "name": "stdout",
     "output_type": "stream",
     "text": [
      "Fold 1: Accuracy: 0.9414\n",
      "Fold 2: Accuracy: 0.9310\n",
      "Fold 3: Accuracy: 0.9207\n",
      "Fold 4: Accuracy: 0.9172\n",
      "Fold 5: Accuracy: 0.9241\n",
      "Fold 6: Accuracy: 0.9483\n",
      "Fold 7: Accuracy: 0.9310\n",
      "Fold 8: Accuracy: 0.9034\n",
      "Fold 9: Accuracy: 0.9483\n"
     ]
    },
    {
     "name": "stderr",
     "output_type": "stream",
     "text": [
      "[I 2025-06-27 20:50:14,016] Trial 0 finished with value: 0.9306896551724136 and parameters: {'max_depth': 6, 'min_child_weight': 2, 'subsample': 0.7187959272673927, 'colsample_bytree': 0.726861807652043, 'n_estimators': 235}. Best is trial 0 with value: 0.9306896551724136.\n"
     ]
    },
    {
     "name": "stdout",
     "output_type": "stream",
     "text": [
      "Fold 10: Accuracy: 0.9414\n",
      "Average Accuracy: 0.9307\n",
      "Fold 1: Accuracy: 0.9138\n",
      "Fold 2: Accuracy: 0.9276\n",
      "Fold 3: Accuracy: 0.9034\n",
      "Fold 4: Accuracy: 0.9034\n",
      "Fold 5: Accuracy: 0.9034\n",
      "Fold 6: Accuracy: 0.9379\n",
      "Fold 7: Accuracy: 0.9207\n",
      "Fold 8: Accuracy: 0.9034\n",
      "Fold 9: Accuracy: 0.9241\n"
     ]
    },
    {
     "name": "stderr",
     "output_type": "stream",
     "text": [
      "[I 2025-06-27 20:50:22,490] Trial 1 finished with value: 0.9148275862068967 and parameters: {'max_depth': 10, 'min_child_weight': 2, 'subsample': 0.9682922050911839, 'colsample_bytree': 0.7667979662937512, 'n_estimators': 976}. Best is trial 0 with value: 0.9306896551724136.\n"
     ]
    },
    {
     "name": "stdout",
     "output_type": "stream",
     "text": [
      "Fold 10: Accuracy: 0.9103\n",
      "Average Accuracy: 0.9148\n",
      "Fold 1: Accuracy: 0.9345\n",
      "Fold 2: Accuracy: 0.9379\n",
      "Fold 3: Accuracy: 0.9138\n",
      "Fold 4: Accuracy: 0.9138\n",
      "Fold 5: Accuracy: 0.9207\n",
      "Fold 6: Accuracy: 0.9448\n",
      "Fold 7: Accuracy: 0.9345\n",
      "Fold 8: Accuracy: 0.9069\n",
      "Fold 9: Accuracy: 0.9448\n"
     ]
    },
    {
     "name": "stderr",
     "output_type": "stream",
     "text": [
      "[I 2025-06-27 20:50:29,279] Trial 2 finished with value: 0.9282758620689655 and parameters: {'max_depth': 8, 'min_child_weight': 3, 'subsample': 0.6752655616107296, 'colsample_bytree': 0.5348443892271604, 'n_estimators': 953}. Best is trial 0 with value: 0.9306896551724136.\n"
     ]
    },
    {
     "name": "stdout",
     "output_type": "stream",
     "text": [
      "Fold 10: Accuracy: 0.9310\n",
      "Average Accuracy: 0.9283\n",
      "Fold 1: Accuracy: 0.9414\n",
      "Fold 2: Accuracy: 0.9310\n",
      "Fold 3: Accuracy: 0.9207\n",
      "Fold 4: Accuracy: 0.9241\n",
      "Fold 5: Accuracy: 0.9172\n",
      "Fold 6: Accuracy: 0.9483\n",
      "Fold 7: Accuracy: 0.9345\n",
      "Fold 8: Accuracy: 0.9172\n",
      "Fold 9: Accuracy: 0.9517\n"
     ]
    },
    {
     "name": "stderr",
     "output_type": "stream",
     "text": [
      "[I 2025-06-27 20:50:34,430] Trial 3 finished with value: 0.9337931034482757 and parameters: {'max_depth': 7, 'min_child_weight': 4, 'subsample': 0.680621038361271, 'colsample_bytree': 0.14704779460037337, 'n_estimators': 762}. Best is trial 3 with value: 0.9337931034482757.\n"
     ]
    },
    {
     "name": "stdout",
     "output_type": "stream",
     "text": [
      "Fold 10: Accuracy: 0.9517\n",
      "Average Accuracy: 0.9338\n",
      "Fold 1: Accuracy: 0.9414\n",
      "Fold 2: Accuracy: 0.9345\n",
      "Fold 3: Accuracy: 0.9207\n",
      "Fold 4: Accuracy: 0.9241\n",
      "Fold 5: Accuracy: 0.9241\n",
      "Fold 6: Accuracy: 0.9483\n",
      "Fold 7: Accuracy: 0.9310\n",
      "Fold 8: Accuracy: 0.9138\n",
      "Fold 9: Accuracy: 0.9517\n"
     ]
    },
    {
     "name": "stderr",
     "output_type": "stream",
     "text": [
      "[I 2025-06-27 20:50:40,514] Trial 4 finished with value: 0.9334482758620689 and parameters: {'max_depth': 6, 'min_child_weight': 5, 'subsample': 0.5545988602647448, 'colsample_bytree': 0.5313402688626364, 'n_estimators': 768}. Best is trial 3 with value: 0.9337931034482757.\n"
     ]
    },
    {
     "name": "stdout",
     "output_type": "stream",
     "text": [
      "Fold 10: Accuracy: 0.9448\n",
      "Average Accuracy: 0.9334\n",
      "Fold 1: Accuracy: 0.9379\n",
      "Fold 2: Accuracy: 0.9379\n",
      "Fold 3: Accuracy: 0.9207\n",
      "Fold 4: Accuracy: 0.9241\n",
      "Fold 5: Accuracy: 0.9241\n",
      "Fold 6: Accuracy: 0.9448\n",
      "Fold 7: Accuracy: 0.9310\n",
      "Fold 8: Accuracy: 0.9103\n",
      "Fold 9: Accuracy: 0.9483\n"
     ]
    },
    {
     "name": "stderr",
     "output_type": "stream",
     "text": [
      "[I 2025-06-27 20:50:44,251] Trial 5 finished with value: 0.9320689655172412 and parameters: {'max_depth': 6, 'min_child_weight': 1, 'subsample': 0.41947520708971064, 'colsample_bytree': 0.5177485599693318, 'n_estimators': 469}. Best is trial 3 with value: 0.9337931034482757.\n"
     ]
    },
    {
     "name": "stdout",
     "output_type": "stream",
     "text": [
      "Fold 10: Accuracy: 0.9414\n",
      "Average Accuracy: 0.9321\n",
      "Fold 1: Accuracy: 0.9379\n",
      "Fold 2: Accuracy: 0.9310\n",
      "Fold 3: Accuracy: 0.9207\n",
      "Fold 4: Accuracy: 0.9241\n",
      "Fold 5: Accuracy: 0.9241\n",
      "Fold 6: Accuracy: 0.9483\n",
      "Fold 7: Accuracy: 0.9345\n",
      "Fold 8: Accuracy: 0.9172\n",
      "Fold 9: Accuracy: 0.9517\n"
     ]
    },
    {
     "name": "stderr",
     "output_type": "stream",
     "text": [
      "[I 2025-06-27 20:50:49,422] Trial 6 finished with value: 0.9341379310344827 and parameters: {'max_depth': 5, 'min_child_weight': 10, 'subsample': 0.7565088825390764, 'colsample_bytree': 0.33098886035473635, 'n_estimators': 831}. Best is trial 6 with value: 0.9341379310344827.\n"
     ]
    },
    {
     "name": "stdout",
     "output_type": "stream",
     "text": [
      "Fold 10: Accuracy: 0.9517\n",
      "Average Accuracy: 0.9341\n",
      "Fold 1: Accuracy: 0.9414\n",
      "Fold 2: Accuracy: 0.9310\n",
      "Fold 3: Accuracy: 0.9207\n",
      "Fold 4: Accuracy: 0.9241\n",
      "Fold 5: Accuracy: 0.9241\n",
      "Fold 6: Accuracy: 0.9483\n",
      "Fold 7: Accuracy: 0.9345\n",
      "Fold 8: Accuracy: 0.9172\n",
      "Fold 9: Accuracy: 0.9517\n"
     ]
    },
    {
     "name": "stderr",
     "output_type": "stream",
     "text": [
      "[I 2025-06-27 20:50:51,021] Trial 7 finished with value: 0.9344827586206895 and parameters: {'max_depth': 5, 'min_child_weight': 2, 'subsample': 0.12089233412440974, 'colsample_bytree': 0.6640537014643052, 'n_estimators': 238}. Best is trial 7 with value: 0.9344827586206895.\n"
     ]
    },
    {
     "name": "stdout",
     "output_type": "stream",
     "text": [
      "Fold 10: Accuracy: 0.9517\n",
      "Average Accuracy: 0.9345\n",
      "Fold 1: Accuracy: 0.9414\n",
      "Fold 2: Accuracy: 0.9310\n",
      "Fold 3: Accuracy: 0.9207\n",
      "Fold 4: Accuracy: 0.9241\n",
      "Fold 5: Accuracy: 0.9241\n",
      "Fold 6: Accuracy: 0.9483\n",
      "Fold 7: Accuracy: 0.9345\n",
      "Fold 8: Accuracy: 0.9172\n",
      "Fold 9: Accuracy: 0.9517\n"
     ]
    },
    {
     "name": "stderr",
     "output_type": "stream",
     "text": [
      "[I 2025-06-27 20:50:55,080] Trial 8 finished with value: 0.9344827586206895 and parameters: {'max_depth': 8, 'min_child_weight': 10, 'subsample': 0.7122964064467406, 'colsample_bytree': 0.5089064963564751, 'n_estimators': 632}. Best is trial 7 with value: 0.9344827586206895.\n"
     ]
    },
    {
     "name": "stdout",
     "output_type": "stream",
     "text": [
      "Fold 10: Accuracy: 0.9517\n",
      "Average Accuracy: 0.9345\n",
      "Fold 1: Accuracy: 0.9310\n",
      "Fold 2: Accuracy: 0.9379\n",
      "Fold 3: Accuracy: 0.9138\n",
      "Fold 4: Accuracy: 0.9172\n",
      "Fold 5: Accuracy: 0.9241\n",
      "Fold 6: Accuracy: 0.9448\n",
      "Fold 7: Accuracy: 0.9345\n",
      "Fold 8: Accuracy: 0.9069\n",
      "Fold 9: Accuracy: 0.9379\n"
     ]
    },
    {
     "name": "stderr",
     "output_type": "stream",
     "text": [
      "[I 2025-06-27 20:50:59,137] Trial 9 finished with value: 0.9279310344827586 and parameters: {'max_depth': 5, 'min_child_weight': 2, 'subsample': 0.8889614664234002, 'colsample_bytree': 0.8462322659545785, 'n_estimators': 552}. Best is trial 7 with value: 0.9344827586206895.\n"
     ]
    },
    {
     "name": "stdout",
     "output_type": "stream",
     "text": [
      "Fold 10: Accuracy: 0.9310\n",
      "Average Accuracy: 0.9279\n"
     ]
    }
   ],
   "source": [
    "def objective_xgb_params(trial):\n",
    "    xgb_params = {\n",
    "        'max_depth': trial.suggest_int('max_depth', 5, 10),\n",
    "        'learning_rate': best_learning_rate,\n",
    "        'min_child_weight': trial.suggest_int('min_child_weight', 1, 10),\n",
    "        'subsample': trial.suggest_float('subsample', 0.01, 1.0),\n",
    "        'colsample_bytree': trial.suggest_float('colsample_bytree', 0.01, 1.0),\n",
    "        'n_estimators': trial.suggest_int('n_estimators', 150, 1000),\n",
    "        'random_state': 42,\n",
    "        'eval_metric': 'error',\n",
    "        'verbosity': 0,\n",
    "        'n_jobs': -1\n",
    "    }\n",
    "\n",
    "    model = xgb.XGBClassifier(**xgb_params)\n",
    "    scores = crossval(model, X, y)\n",
    "    return np.mean(scores)\n",
    "\n",
    "study = optuna.create_study(direction='maximize')\n",
    "study.optimize(objective_xgb_params, n_trials=10)\n",
    "\n",
    "best_params = study.best_params"
   ]
  },
  {
   "cell_type": "code",
   "execution_count": 17,
   "id": "86a9a51c",
   "metadata": {},
   "outputs": [
    {
     "name": "stdout",
     "output_type": "stream",
     "text": [
      "[20:50:59] INFO: C:\\actions-runner\\_work\\xgboost\\xgboost\\src\\data\\iterative_dmatrix.cc:53: Finished constructing the `IterativeDMatrix`: (2610, 7, 18270).\n",
      "[20:50:59] INFO: C:\\actions-runner\\_work\\xgboost\\xgboost\\src\\data\\iterative_dmatrix.cc:53: Finished constructing the `IterativeDMatrix`: (290, 7, 2030).\n",
      "Fold 1: Accuracy: 0.9414\n",
      "[20:50:59] INFO: C:\\actions-runner\\_work\\xgboost\\xgboost\\src\\data\\iterative_dmatrix.cc:53: Finished constructing the `IterativeDMatrix`: (2610, 7, 18270).\n",
      "[20:50:59] INFO: C:\\actions-runner\\_work\\xgboost\\xgboost\\src\\data\\iterative_dmatrix.cc:53: Finished constructing the `IterativeDMatrix`: (290, 7, 2030).\n",
      "Fold 2: Accuracy: 0.9310\n",
      "[20:50:59] INFO: C:\\actions-runner\\_work\\xgboost\\xgboost\\src\\data\\iterative_dmatrix.cc:53: Finished constructing the `IterativeDMatrix`: (2610, 7, 18270).\n",
      "[20:50:59] INFO: C:\\actions-runner\\_work\\xgboost\\xgboost\\src\\data\\iterative_dmatrix.cc:53: Finished constructing the `IterativeDMatrix`: (290, 7, 2030).\n",
      "Fold 3: Accuracy: 0.9207\n",
      "[20:50:59] INFO: C:\\actions-runner\\_work\\xgboost\\xgboost\\src\\data\\iterative_dmatrix.cc:53: Finished constructing the `IterativeDMatrix`: (2610, 7, 18270).\n",
      "[20:50:59] INFO: C:\\actions-runner\\_work\\xgboost\\xgboost\\src\\data\\iterative_dmatrix.cc:53: Finished constructing the `IterativeDMatrix`: (290, 7, 2030).\n",
      "Fold 4: Accuracy: 0.9241\n",
      "[20:50:59] INFO: C:\\actions-runner\\_work\\xgboost\\xgboost\\src\\data\\iterative_dmatrix.cc:53: Finished constructing the `IterativeDMatrix`: (2610, 7, 18270).\n",
      "[20:50:59] INFO: C:\\actions-runner\\_work\\xgboost\\xgboost\\src\\data\\iterative_dmatrix.cc:53: Finished constructing the `IterativeDMatrix`: (290, 7, 2030).\n",
      "Fold 5: Accuracy: 0.9241\n",
      "[20:51:00] INFO: C:\\actions-runner\\_work\\xgboost\\xgboost\\src\\data\\iterative_dmatrix.cc:53: Finished constructing the `IterativeDMatrix`: (2610, 7, 18270).\n",
      "[20:51:00] INFO: C:\\actions-runner\\_work\\xgboost\\xgboost\\src\\data\\iterative_dmatrix.cc:53: Finished constructing the `IterativeDMatrix`: (290, 7, 2030).\n",
      "Fold 6: Accuracy: 0.9483\n",
      "[20:51:00] INFO: C:\\actions-runner\\_work\\xgboost\\xgboost\\src\\data\\iterative_dmatrix.cc:53: Finished constructing the `IterativeDMatrix`: (2610, 7, 18270).\n",
      "[20:51:00] INFO: C:\\actions-runner\\_work\\xgboost\\xgboost\\src\\data\\iterative_dmatrix.cc:53: Finished constructing the `IterativeDMatrix`: (290, 7, 2030).\n",
      "Fold 7: Accuracy: 0.9345\n",
      "[20:51:00] INFO: C:\\actions-runner\\_work\\xgboost\\xgboost\\src\\data\\iterative_dmatrix.cc:53: Finished constructing the `IterativeDMatrix`: (2610, 7, 18270).\n",
      "[20:51:00] INFO: C:\\actions-runner\\_work\\xgboost\\xgboost\\src\\data\\iterative_dmatrix.cc:53: Finished constructing the `IterativeDMatrix`: (290, 7, 2030).\n",
      "Fold 8: Accuracy: 0.9172\n",
      "[20:51:00] INFO: C:\\actions-runner\\_work\\xgboost\\xgboost\\src\\data\\iterative_dmatrix.cc:53: Finished constructing the `IterativeDMatrix`: (2610, 7, 18270).\n",
      "[20:51:00] INFO: C:\\actions-runner\\_work\\xgboost\\xgboost\\src\\data\\iterative_dmatrix.cc:53: Finished constructing the `IterativeDMatrix`: (290, 7, 2030).\n",
      "Fold 9: Accuracy: 0.9517\n",
      "[20:51:00] INFO: C:\\actions-runner\\_work\\xgboost\\xgboost\\src\\data\\iterative_dmatrix.cc:53: Finished constructing the `IterativeDMatrix`: (2610, 7, 18270).\n",
      "[20:51:00] INFO: C:\\actions-runner\\_work\\xgboost\\xgboost\\src\\data\\iterative_dmatrix.cc:53: Finished constructing the `IterativeDMatrix`: (290, 7, 2030).\n",
      "Fold 10: Accuracy: 0.9517\n",
      "Average Accuracy: 0.9345\n"
     ]
    }
   ],
   "source": [
    "final_XGB_params = {\n",
    "    'max_depth': best_params['max_depth'],\n",
    "    'learning_rate': best_learning_rate,\n",
    "    'n_estimators': best_params['n_estimators'],\n",
    "    'min_child_weight': best_params['min_child_weight'],\n",
    "    'colsample_bytree': best_params['colsample_bytree'],\n",
    "    'subsample': best_params['subsample'],\n",
    "    'eval_metric': 'auc',\n",
    "    'random_state': 42,\n",
    "    'verbosity': 2,\n",
    "    'n_jobs': -1\n",
    "}\n",
    "\n",
    "final_model = xgb.XGBClassifier(**final_XGB_params)\n",
    "scores = crossval(model=final_model, X=X, y=y)"
   ]
  },
  {
   "cell_type": "code",
   "execution_count": 18,
   "id": "1b817aeb",
   "metadata": {},
   "outputs": [
    {
     "name": "stderr",
     "output_type": "stream",
     "text": [
      "C:\\Users\\firma\\AppData\\Local\\Temp\\ipykernel_11672\\2054834927.py:7: FutureWarning: \n",
      "\n",
      "Passing `palette` without assigning `hue` is deprecated and will be removed in v0.14.0. Assign the `y` variable to `hue` and set `legend=False` for the same effect.\n",
      "\n",
      "  sns.barplot(x='Importance', y='Feature', data=feature_importance_df, palette='viridis')\n"
     ]
    },
    {
     "data": {
      "image/png": "[encoded data removed]",
      "text/plain": [
       "<Figure size 1200x600 with 1 Axes>"
      ]
     },
     "metadata": {},
     "output_type": "display_data"
    }
   ],
   "source": [
    "feature_importance = final_model.feature_importances_\n",
    "\n",
    "feature_importance_df = pd.DataFrame({'Feature': X.columns, 'Importance': feature_importance})\n",
    "feature_importance_df = feature_importance_df.sort_values(by='Importance', ascending=False)\n",
    "\n",
    "plt.figure(figsize=(12, 6))\n",
    "sns.barplot(x='Importance', y='Feature', data=feature_importance_df, palette='viridis')\n",
    "plt.title('Feature Importance')\n",
    "plt.xlabel('Importance')\n",
    "plt.ylabel('Feature')\n",
    "plt.show()"
   ]
  },
  {
   "cell_type": "markdown",
   "id": "70834c7e",
   "metadata": {},
   "source": [
    "# Model Evaluation"
   ]
  },
  {
   "cell_type": "code",
   "execution_count": 19,
   "id": "8032c815",
   "metadata": {},
   "outputs": [
    {
     "name": "stdout",
     "output_type": "stream",
     "text": [
      "[20:51:01] INFO: C:\\actions-runner\\_work\\xgboost\\xgboost\\src\\data\\iterative_dmatrix.cc:53: Finished constructing the `IterativeDMatrix`: (2320, 7, 16240).\n",
      "Test Accuracy: 0.9241\n",
      "\n",
      "Classification Report:\n",
      "              precision    recall  f1-score   support\n",
      "\n",
      "           0       0.91      0.94      0.92       282\n",
      "           1       0.94      0.91      0.93       298\n",
      "\n",
      "    accuracy                           0.92       580\n",
      "   macro avg       0.92      0.92      0.92       580\n",
      "weighted avg       0.92      0.92      0.92       580\n",
      "\n"
     ]
    },
    {
     "data": {
      "image/png": "[encoded data removed]",
      "text/plain": [
       "<Figure size 600x400 with 2 Axes>"
      ]
     },
     "metadata": {},
     "output_type": "display_data"
    }
   ],
   "source": [
    "model = xgb.XGBClassifier(**final_XGB_params)\n",
    "model.fit(X_train, y_train)\n",
    "\n",
    "y_pred = model.predict(X_test)\n",
    "\n",
    "acc = accuracy_score(y_test, y_pred)\n",
    "print(f\"Test Accuracy: {acc:.4f}\")\n",
    "print(\"\\nClassification Report:\")\n",
    "print(classification_report(y_test, y_pred))\n",
    "\n",
    "cm = confusion_matrix(y_test, y_pred)\n",
    "plt.figure(figsize=(6, 4))\n",
    "sns.heatmap(cm, annot=True, fmt='d', cmap='Blues')\n",
    "plt.title(\"Confusion Matrix\")\n",
    "plt.xlabel(\"Predicted\")\n",
    "plt.ylabel(\"Actual\")\n",
    "plt.tight_layout()\n",
    "plt.show()"
   ]
  },
  {
   "cell_type": "code",
   "execution_count": 20,
   "id": "a45fbab6",
   "metadata": {},
   "outputs": [
    {
     "data": {
      "text/plain": [
       "['../Model/introvert_vs_extrovert_behavior.pkl']"
      ]
     },
     "execution_count": 20,
     "metadata": {},
     "output_type": "execute_result"
    }
   ],
   "source": [
    "target_path = \"../Model/introvert_vs_extrovert_behavior.pkl\"\n",
    "os.makedirs(\"../Model\", exist_ok=True)\n",
    "joblib.dump(model, target_path)"
   ]
  },
  {
   "cell_type": "code",
   "execution_count": null,
   "id": "f8e3136c",
   "metadata": {},
   "outputs": [],
   "source": []
  }
 ],
 "metadata": {
  "kernelspec": {
   "display_name": "Python 3",
   "language": "python",
   "name": "python3"
  },
  "language_info": {
   "codemirror_mode": {
    "name": "ipython",
    "version": 3
   },
   "file_extension": ".py",
   "mimetype": "text/x-python",
   "name": "python",
   "nbconvert_exporter": "python",
   "pygments_lexer": "ipython3",
   "version": "3.12.6"
  }
 },
 "nbformat": 4,
 "nbformat_minor": 5
}
